{
  "nbformat": 4,
  "nbformat_minor": 0,
  "metadata": {
    "colab": {
      "name": "restaurant exploration.ipynb",
      "provenance": [],
      "collapsed_sections": [],
      "authorship_tag": "ABX9TyNn7qc/jyfcoEByYnk74+hx"
    },
    "kernelspec": {
      "name": "python3",
      "display_name": "Python 3"
    },
    "language_info": {
      "name": "python"
    }
  },
  "cells": [
    {
      "cell_type": "markdown",
      "metadata": {
        "id": "d1eaXmi0FwSN"
      },
      "source": [
        "\n",
        "**Problem Background**\n",
        "  \n",
        "  Toronto, is the financial city of Canada. It's a province of Ontario. It's Provides many business oppourtunities. It has attracted many different players into the market. Toronto is one of the most quality life city. The city is a center for finance, business services, telecomunications, transport, media, art and science, medic research,education and finally turism. The Toronto Stock Exchange is the seven largest stock market in the world.\n",
        "\n",
        "  This also means that the market is really competitive. Toronto is a cosmopolita city and almost half of the residents aren't born in Canada. With that in mind the city has an incredible rich of differents kind of foods likeIitalian, Chinese, English, Indian and others. Toronto is one of the easiest places in the world to start a business. In Canada, it's a one-step procedure versus six in both the United Kingdom and the United States, according to the World Bank. New businesses can simply register through Enterprise Toronto. \n",
        "\n",
        "  The insights derived from analysis will give good understanding of the business environment which help in target the market. This will help in risk reduction and the ROI will be sufficient well to do businesses.\n",
        "\n",
        "**Description of the problem**\n",
        "\n",
        "  A restaurant is a business focused on serve food and bring a great experience on each that visit the place. Toronto has a particular case because it has a big different cultures so it's probably that has many restaurants.With that in mind is important to know what aspects are most importants before take an action.\n",
        "\n",
        "**Description data**\n",
        "\n",
        "  So for that take a look of some important aspects like:\n",
        "\n",
        "  1.   Population\n",
        "  2.   Segment of migrants\n",
        "  3.   Supply foods (farmers,wholesales, etc)\n",
        "  4.   Competitors\n",
        "  5.   High fluent people zones\n",
        "  6.   Segmentation of the borough\n",
        "\n",
        "A business is searching information about that to take the best desicion for that they told me to be the data science guy for do the job. For that i have to collect all data and give the best information to them.\n",
        "\n",
        "Finally i resume all insights and give them the best opinions based on the information captured.\n",
        "\n",
        "\n",
        "\n"
      ]
    },
    {
      "cell_type": "code",
      "metadata": {
        "id": "0N8RFRdbyJM-"
      },
      "source": [
        ""
      ],
      "execution_count": null,
      "outputs": []
    }
  ]
}